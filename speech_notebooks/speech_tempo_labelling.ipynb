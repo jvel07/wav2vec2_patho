{
 "cells": [
  {
   "cell_type": "code",
   "execution_count": 3,
   "metadata": {
    "collapsed": true
   },
   "outputs": [],
   "source": [
    "import pandas as pd\n",
    "import seaborn as sns\n",
    "sns.set_theme()"
   ]
  },
  {
   "cell_type": "code",
   "execution_count": 109,
   "outputs": [],
   "source": [
    "speech_tempo_train = pd.read_csv('../data/bea-base-train-flat/speech_tempo_train_5000.csv')\n",
    "speech_tempo_dev = pd.read_csv('../data/bea-base-train-flat/speech_tempo_dev_5000.csv')"
   ],
   "metadata": {
    "collapsed": false
   }
  },
  {
   "cell_type": "code",
   "execution_count": 110,
   "outputs": [],
   "source": [
    "no_pause_speech_train = speech_tempo_train[['name', 'no_pause_speech']]\n",
    "no_pause_speech_dev = speech_tempo_dev[['name', 'no_pause_speech']]"
   ],
   "metadata": {
    "collapsed": false
   }
  },
  {
   "cell_type": "code",
   "execution_count": 116,
   "outputs": [
    {
     "data": {
      "text/plain": "<seaborn.axisgrid.FacetGrid at 0x7fdc9175b9a0>"
     },
     "execution_count": 116,
     "metadata": {},
     "output_type": "execute_result"
    },
    {
     "data": {
      "text/plain": "<Figure size 500x500 with 1 Axes>",
      "image/png": "[encoded data removed]"
     },
     "metadata": {},
     "output_type": "display_data"
    }
   ],
   "source": [
    "sns.set(font_scale=0.6)\n",
    "sns.displot(no_pause_speech_train, x='no_pause_speech')"
   ],
   "metadata": {
    "collapsed": false
   }
  },
  {
   "cell_type": "code",
   "execution_count": 113,
   "outputs": [
    {
     "data": {
      "text/plain": "                                                   path  \\\n0     /srv/data/egasj/corpora/Bea_base/bea-base-dev-...   \n1     /srv/data/egasj/corpora/Bea_base/bea-base-dev-...   \n2     /srv/data/egasj/corpora/Bea_base/bea-base-dev-...   \n3     /srv/data/egasj/corpora/Bea_base/bea-base-dev-...   \n4     /srv/data/egasj/corpora/Bea_base/bea-base-dev-...   \n...                                                 ...   \n4339  /srv/data/egasj/corpora/Bea_base/bea-base-dev-...   \n4340  /srv/data/egasj/corpora/Bea_base/bea-base-dev-...   \n4341  /srv/data/egasj/corpora/Bea_base/bea-base-dev-...   \n4342  /srv/data/egasj/corpora/Bea_base/bea-base-dev-...   \n4343  /srv/data/egasj/corpora/Bea_base/bea-base-dev-...   \n\n                       name  no_pause_speech  length     label  \n0     bea_037_f_20_stm_0001         0.000332   0.376      slow  \n1     bea_037_f_20_stm_0073         0.000068   1.834      slow  \n2     bea_037_f_20_stm_0074         0.000536   4.078  mid-slow  \n3     bea_037_f_20_stm_0075         0.000876   4.423      fast  \n4     bea_037_f_20_stm_0076         0.000748   6.597    normal  \n...                     ...              ...     ...       ...  \n4339  bea_463_m_25_stm_0648         0.000884   2.544      fast  \n4340  bea_463_m_25_stm_0650         0.000473   1.452  mid-slow  \n4341  bea_463_m_25_stm_0651         0.000967   5.367      fast  \n4342  bea_463_m_25_stm_0652         0.000325   0.961      slow  \n4343  bea_463_m_25_stm_0671         0.000723   0.778    normal  \n\n[4344 rows x 5 columns]",
      "text/html": "<div>\n<style scoped>\n    .dataframe tbody tr th:only-of-type {\n        vertical-align: middle;\n    }\n\n    .dataframe tbody tr th {\n        vertical-align: top;\n    }\n\n    .dataframe thead th {\n        text-align: right;\n    }\n</style>\n<table border=\"1\" class=\"dataframe\">\n  <thead>\n    <tr style=\"text-align: right;\">\n      <th></th>\n      <th>path</th>\n      <th>name</th>\n      <th>no_pause_speech</th>\n      <th>length</th>\n      <th>label</th>\n    </tr>\n  </thead>\n  <tbody>\n    <tr>\n      <th>0</th>\n      <td>/srv/data/egasj/corpora/Bea_base/bea-base-dev-...</td>\n      <td>bea_037_f_20_stm_0001</td>\n      <td>0.000332</td>\n      <td>0.376</td>\n      <td>slow</td>\n    </tr>\n    <tr>\n      <th>1</th>\n      <td>/srv/data/egasj/corpora/Bea_base/bea-base-dev-...</td>\n      <td>bea_037_f_20_stm_0073</td>\n      <td>0.000068</td>\n      <td>1.834</td>\n      <td>slow</td>\n    </tr>\n    <tr>\n      <th>2</th>\n      <td>/srv/data/egasj/corpora/Bea_base/bea-base-dev-...</td>\n      <td>bea_037_f_20_stm_0074</td>\n      <td>0.000536</td>\n      <td>4.078</td>\n      <td>mid-slow</td>\n    </tr>\n    <tr>\n      <th>3</th>\n      <td>/srv/data/egasj/corpora/Bea_base/bea-base-dev-...</td>\n      <td>bea_037_f_20_stm_0075</td>\n      <td>0.000876</td>\n      <td>4.423</td>\n      <td>fast</td>\n    </tr>\n    <tr>\n      <th>4</th>\n      <td>/srv/data/egasj/corpora/Bea_base/bea-base-dev-...</td>\n      <td>bea_037_f_20_stm_0076</td>\n      <td>0.000748</td>\n      <td>6.597</td>\n      <td>normal</td>\n    </tr>\n    <tr>\n      <th>...</th>\n      <td>...</td>\n      <td>...</td>\n      <td>...</td>\n      <td>...</td>\n      <td>...</td>\n    </tr>\n    <tr>\n      <th>4339</th>\n      <td>/srv/data/egasj/corpora/Bea_base/bea-base-dev-...</td>\n      <td>bea_463_m_25_stm_0648</td>\n      <td>0.000884</td>\n      <td>2.544</td>\n      <td>fast</td>\n    </tr>\n    <tr>\n      <th>4340</th>\n      <td>/srv/data/egasj/corpora/Bea_base/bea-base-dev-...</td>\n      <td>bea_463_m_25_stm_0650</td>\n      <td>0.000473</td>\n      <td>1.452</td>\n      <td>mid-slow</td>\n    </tr>\n    <tr>\n      <th>4341</th>\n      <td>/srv/data/egasj/corpora/Bea_base/bea-base-dev-...</td>\n      <td>bea_463_m_25_stm_0651</td>\n      <td>0.000967</td>\n      <td>5.367</td>\n      <td>fast</td>\n    </tr>\n    <tr>\n      <th>4342</th>\n      <td>/srv/data/egasj/corpora/Bea_base/bea-base-dev-...</td>\n      <td>bea_463_m_25_stm_0652</td>\n      <td>0.000325</td>\n      <td>0.961</td>\n      <td>slow</td>\n    </tr>\n    <tr>\n      <th>4343</th>\n      <td>/srv/data/egasj/corpora/Bea_base/bea-base-dev-...</td>\n      <td>bea_463_m_25_stm_0671</td>\n      <td>0.000723</td>\n      <td>0.778</td>\n      <td>normal</td>\n    </tr>\n  </tbody>\n</table>\n<p>4344 rows × 5 columns</p>\n</div>"
     },
     "execution_count": 113,
     "metadata": {},
     "output_type": "execute_result"
    }
   ],
   "source": [
    "# Define threshold values and corresponding labels\n",
    "thresholds = [0.00035, 0.0006, 0.0008, 0.0012]\n",
    "labels = ['slow', 'mid-slow', 'normal', 'fast']\n",
    "\n",
    "# Define function to apply to each element of the column\n",
    "def label_element(val):\n",
    "    if val < thresholds[0]:\n",
    "        return labels[0]\n",
    "    elif val >= thresholds[-1]:\n",
    "        return labels[-1]\n",
    "    else:\n",
    "        for i in range(len(thresholds)-1):\n",
    "            if thresholds[i] <= val < thresholds[i+1]:\n",
    "                return labels[i+1]"
   ],
   "metadata": {
    "collapsed": false
   }
  },
  {
   "cell_type": "code",
   "execution_count": 118,
   "outputs": [
    {
     "data": {
      "text/plain": "                                                   path  \\\n0     /srv/data/egasj/corpora/Bea_base/bea-base-dev-...   \n1     /srv/data/egasj/corpora/Bea_base/bea-base-dev-...   \n2     /srv/data/egasj/corpora/Bea_base/bea-base-dev-...   \n3     /srv/data/egasj/corpora/Bea_base/bea-base-dev-...   \n4     /srv/data/egasj/corpora/Bea_base/bea-base-dev-...   \n...                                                 ...   \n4339  /srv/data/egasj/corpora/Bea_base/bea-base-dev-...   \n4340  /srv/data/egasj/corpora/Bea_base/bea-base-dev-...   \n4341  /srv/data/egasj/corpora/Bea_base/bea-base-dev-...   \n4342  /srv/data/egasj/corpora/Bea_base/bea-base-dev-...   \n4343  /srv/data/egasj/corpora/Bea_base/bea-base-dev-...   \n\n                       name  no_pause_speech  length     label  \n0     bea_037_f_20_stm_0001         0.000332   0.376    normal  \n1     bea_037_f_20_stm_0073         0.000068   1.834      slow  \n2     bea_037_f_20_stm_0074         0.000536   4.078    normal  \n3     bea_037_f_20_stm_0075         0.000876   4.423      fast  \n4     bea_037_f_20_stm_0076         0.000748   6.597      fast  \n...                     ...              ...     ...       ...  \n4339  bea_463_m_25_stm_0648         0.000884   2.544      fast  \n4340  bea_463_m_25_stm_0650         0.000473   1.452    normal  \n4341  bea_463_m_25_stm_0651         0.000967   5.367      fast  \n4342  bea_463_m_25_stm_0652         0.000325   0.961  mid-slow  \n4343  bea_463_m_25_stm_0671         0.000723   0.778      fast  \n\n[4344 rows x 5 columns]",
      "text/html": "<div>\n<style scoped>\n    .dataframe tbody tr th:only-of-type {\n        vertical-align: middle;\n    }\n\n    .dataframe tbody tr th {\n        vertical-align: top;\n    }\n\n    .dataframe thead th {\n        text-align: right;\n    }\n</style>\n<table border=\"1\" class=\"dataframe\">\n  <thead>\n    <tr style=\"text-align: right;\">\n      <th></th>\n      <th>path</th>\n      <th>name</th>\n      <th>no_pause_speech</th>\n      <th>length</th>\n      <th>label</th>\n    </tr>\n  </thead>\n  <tbody>\n    <tr>\n      <th>0</th>\n      <td>/srv/data/egasj/corpora/Bea_base/bea-base-dev-...</td>\n      <td>bea_037_f_20_stm_0001</td>\n      <td>0.000332</td>\n      <td>0.376</td>\n      <td>normal</td>\n    </tr>\n    <tr>\n      <th>1</th>\n      <td>/srv/data/egasj/corpora/Bea_base/bea-base-dev-...</td>\n      <td>bea_037_f_20_stm_0073</td>\n      <td>0.000068</td>\n      <td>1.834</td>\n      <td>slow</td>\n    </tr>\n    <tr>\n      <th>2</th>\n      <td>/srv/data/egasj/corpora/Bea_base/bea-base-dev-...</td>\n      <td>bea_037_f_20_stm_0074</td>\n      <td>0.000536</td>\n      <td>4.078</td>\n      <td>normal</td>\n    </tr>\n    <tr>\n      <th>3</th>\n      <td>/srv/data/egasj/corpora/Bea_base/bea-base-dev-...</td>\n      <td>bea_037_f_20_stm_0075</td>\n      <td>0.000876</td>\n      <td>4.423</td>\n      <td>fast</td>\n    </tr>\n    <tr>\n      <th>4</th>\n      <td>/srv/data/egasj/corpora/Bea_base/bea-base-dev-...</td>\n      <td>bea_037_f_20_stm_0076</td>\n      <td>0.000748</td>\n      <td>6.597</td>\n      <td>fast</td>\n    </tr>\n    <tr>\n      <th>...</th>\n      <td>...</td>\n      <td>...</td>\n      <td>...</td>\n      <td>...</td>\n      <td>...</td>\n    </tr>\n    <tr>\n      <th>4339</th>\n      <td>/srv/data/egasj/corpora/Bea_base/bea-base-dev-...</td>\n      <td>bea_463_m_25_stm_0648</td>\n      <td>0.000884</td>\n      <td>2.544</td>\n      <td>fast</td>\n    </tr>\n    <tr>\n      <th>4340</th>\n      <td>/srv/data/egasj/corpora/Bea_base/bea-base-dev-...</td>\n      <td>bea_463_m_25_stm_0650</td>\n      <td>0.000473</td>\n      <td>1.452</td>\n      <td>normal</td>\n    </tr>\n    <tr>\n      <th>4341</th>\n      <td>/srv/data/egasj/corpora/Bea_base/bea-base-dev-...</td>\n      <td>bea_463_m_25_stm_0651</td>\n      <td>0.000967</td>\n      <td>5.367</td>\n      <td>fast</td>\n    </tr>\n    <tr>\n      <th>4342</th>\n      <td>/srv/data/egasj/corpora/Bea_base/bea-base-dev-...</td>\n      <td>bea_463_m_25_stm_0652</td>\n      <td>0.000325</td>\n      <td>0.961</td>\n      <td>mid-slow</td>\n    </tr>\n    <tr>\n      <th>4343</th>\n      <td>/srv/data/egasj/corpora/Bea_base/bea-base-dev-...</td>\n      <td>bea_463_m_25_stm_0671</td>\n      <td>0.000723</td>\n      <td>0.778</td>\n      <td>fast</td>\n    </tr>\n  </tbody>\n</table>\n<p>4344 rows × 5 columns</p>\n</div>"
     },
     "execution_count": 118,
     "metadata": {},
     "output_type": "execute_result"
    }
   ],
   "source": [
    "# Use apply method to apply the label_element function to each element of the column\n",
    "speech_tempo_train['label'] = speech_tempo_train['whole_speech'].apply(label_element)\n",
    "speech_tempo_train.drop(['whole_speech'], axis=1)\n",
    "\n",
    "speech_tempo_dev['label'] = speech_tempo_dev['whole_speech'].apply(label_element)\n",
    "speech_tempo_dev.drop(['whole_speech'], axis=1)"
   ],
   "metadata": {
    "collapsed": false
   }
  },
  {
   "cell_type": "code",
   "execution_count": 119,
   "outputs": [
    {
     "name": "stdout",
     "output_type": "stream",
     "text": [
      "fast        2976\n",
      "normal      1185\n",
      "mid-slow     626\n",
      "slow         213\n",
      "Name: label, dtype: int64\n",
      "fast        1926\n",
      "normal      1116\n",
      "mid-slow     885\n",
      "slow         417\n",
      "Name: label, dtype: int64\n"
     ]
    }
   ],
   "source": [
    "print(speech_tempo_train['label'].value_counts())\n",
    "print(speech_tempo_dev['label'].value_counts())"
   ],
   "metadata": {
    "collapsed": false
   }
  },
  {
   "cell_type": "code",
   "execution_count": 121,
   "outputs": [],
   "source": [
    "speech_tempo_train.to_csv('../data/bea-base-train-flat/whole_speech_train_5000.csv', index=False)\n",
    "speech_tempo_dev.to_csv('../data/bea-base-train-flat/whole_speech_dev_5000.csv', index=False)"
   ],
   "metadata": {
    "collapsed": false
   }
  },
  {
   "cell_type": "code",
   "execution_count": null,
   "outputs": [],
   "source": [],
   "metadata": {
    "collapsed": false
   }
  }
 ],
 "metadata": {
  "kernelspec": {
   "display_name": "Python 3",
   "language": "python",
   "name": "python3"
  },
  "language_info": {
   "codemirror_mode": {
    "name": "ipython",
    "version": 2
   },
   "file_extension": ".py",
   "mimetype": "text/x-python",
   "name": "python",
   "nbconvert_exporter": "python",
   "pygments_lexer": "ipython2",
   "version": "2.7.6"
  }
 },
 "nbformat": 4,
 "nbformat_minor": 0
}
