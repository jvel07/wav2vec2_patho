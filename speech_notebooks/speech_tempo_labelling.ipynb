{
 "cells": [
  {
   "cell_type": "code",
   "execution_count": 2,
   "metadata": {
    "collapsed": true
   },
   "outputs": [],
   "source": [
    "import OpenSSL.crypto\n",
    "import pandas as pd\n",
    "import seaborn as sns\n",
    "sns.set_theme()"
   ]
  },
  {
   "cell_type": "code",
   "execution_count": 3,
   "outputs": [],
   "source": [
    "speech_tempo_train = pd.read_csv('../data/bea-base-train-flat/speech_tempo_train_5000.csv')\n",
    "speech_tempo_dev = pd.read_csv('../data/bea-base-train-flat/speech_tempo_dev_5000.csv')"
   ],
   "metadata": {
    "collapsed": false
   }
  },
  {
   "cell_type": "code",
   "execution_count": 6,
   "outputs": [],
   "source": [
    "speech_tempo_dev = speech_tempo_dev[0:1000]"
   ],
   "metadata": {
    "collapsed": false
   }
  },
  {
   "cell_type": "code",
   "execution_count": 7,
   "outputs": [
    {
     "data": {
      "text/plain": "(1000, 5)"
     },
     "execution_count": 7,
     "metadata": {},
     "output_type": "execute_result"
    }
   ],
   "source": [
    "speech_tempo_dev.shape"
   ],
   "metadata": {
    "collapsed": false
   }
  },
  {
   "cell_type": "code",
   "execution_count": 8,
   "outputs": [],
   "source": [
    "no_pause_speech_train = speech_tempo_train[['name', 'no_pause_speech']]\n",
    "no_pause_speech_dev = speech_tempo_dev[['name', 'no_pause_speech']]"
   ],
   "metadata": {
    "collapsed": false
   }
  },
  {
   "cell_type": "code",
   "execution_count": 9,
   "outputs": [
    {
     "data": {
      "text/plain": "<seaborn.axisgrid.FacetGrid at 0x7f201c7c61f0>"
     },
     "execution_count": 9,
     "metadata": {},
     "output_type": "execute_result"
    },
    {
     "data": {
      "text/plain": "<Figure size 500x500 with 1 Axes>",
      "image/png": "[encoded data removed]"
     },
     "metadata": {},
     "output_type": "display_data"
    }
   ],
   "source": [
    "sns.set(font_scale=0.6)\n",
    "sns.displot(no_pause_speech_train, x='no_pause_speech')"
   ],
   "metadata": {
    "collapsed": false
   }
  },
  {
   "cell_type": "code",
   "execution_count": 10,
   "outputs": [],
   "source": [
    "# Define threshold values and corresponding labels\n",
    "thresholds = [0.00035, 0.0006, 0.0009, 0.0012]\n",
    "labels = ['slow', 'midslow', 'normal', 'fast']\n",
    "\n",
    "# Define function to apply to each element of the column\n",
    "def label_element(val):\n",
    "    if val < thresholds[0]:\n",
    "        return labels[0]\n",
    "    elif val >= thresholds[-1]:\n",
    "        return labels[-1]\n",
    "    else:\n",
    "        for i in range(len(thresholds)-1):\n",
    "            if thresholds[i] <= val < thresholds[i+1]:\n",
    "                return labels[i+1]"
   ],
   "metadata": {
    "collapsed": false
   }
  },
  {
   "cell_type": "code",
   "execution_count": 11,
   "outputs": [
    {
     "name": "stderr",
     "output_type": "stream",
     "text": [
      "/tmp/ipykernel_180339/2300052558.py:15: SettingWithCopyWarning: \n",
      "A value is trying to be set on a copy of a slice from a DataFrame.\n",
      "Try using .loc[row_indexer,col_indexer] = value instead\n",
      "\n",
      "See the caveats in the documentation: https://pandas.pydata.org/pandas-docs/stable/user_guide/indexing.html#returning-a-view-versus-a-copy\n",
      "  speech_tempo_dev['speed'] = speech_tempo_dev[target].apply(label_element)\n",
      "/tmp/ipykernel_180339/2300052558.py:15: SettingWithCopyWarning: \n",
      "A value is trying to be set on a copy of a slice from a DataFrame.\n",
      "Try using .loc[row_indexer,col_indexer] = value instead\n",
      "\n",
      "See the caveats in the documentation: https://pandas.pydata.org/pandas-docs/stable/user_guide/indexing.html#returning-a-view-versus-a-copy\n",
      "  speech_tempo_dev['speed'] = speech_tempo_dev[target].apply(label_element)\n"
     ]
    }
   ],
   "source": [
    "\n",
    "tempo_targets = ['whole_speech', 'no_pause_speech']\n",
    "\n",
    "for target in tempo_targets:\n",
    "\n",
    "    # drop column\n",
    "    if target == 'whole_speech':\n",
    "        to_drop = ['no_pause_speech', 'length', 'whole_speech']\n",
    "    elif target == 'no_pause_speech':\n",
    "        to_drop = ['whole_speech', 'length', 'no_pause_speech']\n",
    "\n",
    "    # Use apply method to apply the label_element function to each element of the column\n",
    "    speech_tempo_train['speed'] = speech_tempo_train[target].apply(label_element)\n",
    "    speech_tempo_train_new = speech_tempo_train.drop(to_drop, axis=1)\n",
    "\n",
    "    speech_tempo_dev['speed'] = speech_tempo_dev[target].apply(label_element)\n",
    "    speech_tempo_dev_new = speech_tempo_dev.drop(to_drop, axis=1)\n",
    "\n",
    "    speech_tempo_train_new.to_csv('../data/bea-base-train-flat/{}_train_5000.csv'.format(target), index=False)\n",
    "    speech_tempo_dev_new.to_csv('../data/bea-base-train-flat/{}_dev_5000.csv'.format(target), index=False)"
   ],
   "metadata": {
    "collapsed": false
   }
  },
  {
   "cell_type": "code",
   "execution_count": 13,
   "outputs": [
    {
     "data": {
      "text/plain": "                                                  path                   name  \\\n0    /media/jvel/data/audio/Bea-base/bea-base-dev-s...  bea_037_f_20_stm_0001   \n1    /media/jvel/data/audio/Bea-base/bea-base-dev-s...  bea_037_f_20_stm_0073   \n2    /media/jvel/data/audio/Bea-base/bea-base-dev-s...  bea_037_f_20_stm_0074   \n3    /media/jvel/data/audio/Bea-base/bea-base-dev-s...  bea_037_f_20_stm_0075   \n4    /media/jvel/data/audio/Bea-base/bea-base-dev-s...  bea_037_f_20_stm_0076   \n..                                                 ...                    ...   \n995  /media/jvel/data/audio/Bea-base/bea-base-dev-s...  bea_075_f_45_stm_0669   \n996  /media/jvel/data/audio/Bea-base/bea-base-dev-s...  bea_075_f_45_stm_0670   \n997  /media/jvel/data/audio/Bea-base/bea-base-dev-s...  bea_075_f_45_stm_0671   \n998  /media/jvel/data/audio/Bea-base/bea-base-dev-s...  bea_075_f_45_stm_0672   \n999  /media/jvel/data/audio/Bea-base/bea-base-dev-s...  bea_075_f_45_stm_0673   \n\n       speed  \n0       slow  \n1       slow  \n2    midslow  \n3     normal  \n4     normal  \n..       ...  \n995     slow  \n996  midslow  \n997  midslow  \n998  midslow  \n999   normal  \n\n[1000 rows x 3 columns]",
      "text/html": "<div>\n<style scoped>\n    .dataframe tbody tr th:only-of-type {\n        vertical-align: middle;\n    }\n\n    .dataframe tbody tr th {\n        vertical-align: top;\n    }\n\n    .dataframe thead th {\n        text-align: right;\n    }\n</style>\n<table border=\"1\" class=\"dataframe\">\n  <thead>\n    <tr style=\"text-align: right;\">\n      <th></th>\n      <th>path</th>\n      <th>name</th>\n      <th>speed</th>\n    </tr>\n  </thead>\n  <tbody>\n    <tr>\n      <th>0</th>\n      <td>/media/jvel/data/audio/Bea-base/bea-base-dev-s...</td>\n      <td>bea_037_f_20_stm_0001</td>\n      <td>slow</td>\n    </tr>\n    <tr>\n      <th>1</th>\n      <td>/media/jvel/data/audio/Bea-base/bea-base-dev-s...</td>\n      <td>bea_037_f_20_stm_0073</td>\n      <td>slow</td>\n    </tr>\n    <tr>\n      <th>2</th>\n      <td>/media/jvel/data/audio/Bea-base/bea-base-dev-s...</td>\n      <td>bea_037_f_20_stm_0074</td>\n      <td>midslow</td>\n    </tr>\n    <tr>\n      <th>3</th>\n      <td>/media/jvel/data/audio/Bea-base/bea-base-dev-s...</td>\n      <td>bea_037_f_20_stm_0075</td>\n      <td>normal</td>\n    </tr>\n    <tr>\n      <th>4</th>\n      <td>/media/jvel/data/audio/Bea-base/bea-base-dev-s...</td>\n      <td>bea_037_f_20_stm_0076</td>\n      <td>normal</td>\n    </tr>\n    <tr>\n      <th>...</th>\n      <td>...</td>\n      <td>...</td>\n      <td>...</td>\n    </tr>\n    <tr>\n      <th>995</th>\n      <td>/media/jvel/data/audio/Bea-base/bea-base-dev-s...</td>\n      <td>bea_075_f_45_stm_0669</td>\n      <td>slow</td>\n    </tr>\n    <tr>\n      <th>996</th>\n      <td>/media/jvel/data/audio/Bea-base/bea-base-dev-s...</td>\n      <td>bea_075_f_45_stm_0670</td>\n      <td>midslow</td>\n    </tr>\n    <tr>\n      <th>997</th>\n      <td>/media/jvel/data/audio/Bea-base/bea-base-dev-s...</td>\n      <td>bea_075_f_45_stm_0671</td>\n      <td>midslow</td>\n    </tr>\n    <tr>\n      <th>998</th>\n      <td>/media/jvel/data/audio/Bea-base/bea-base-dev-s...</td>\n      <td>bea_075_f_45_stm_0672</td>\n      <td>midslow</td>\n    </tr>\n    <tr>\n      <th>999</th>\n      <td>/media/jvel/data/audio/Bea-base/bea-base-dev-s...</td>\n      <td>bea_075_f_45_stm_0673</td>\n      <td>normal</td>\n    </tr>\n  </tbody>\n</table>\n<p>1000 rows × 3 columns</p>\n</div>"
     },
     "execution_count": 13,
     "metadata": {},
     "output_type": "execute_result"
    }
   ],
   "source": [
    "speech_tempo_dev_new"
   ],
   "metadata": {
    "collapsed": false
   }
  },
  {
   "cell_type": "code",
   "execution_count": 6,
   "outputs": [],
   "source": [
    "print(speech_tempo_train_new['label'].value_counts())\n",
    "print(speech_tempo_dev_new['label'].value_counts())"
   ],
   "metadata": {
    "collapsed": false
   }
  },
  {
   "cell_type": "code",
   "execution_count": 21,
   "outputs": [
    {
     "data": {
      "text/plain": "                                                   path  \\\n0     /media/jvel/data/audio/Bea-base/bea-base-train...   \n1     /media/jvel/data/audio/Bea-base/bea-base-train...   \n2     /media/jvel/data/audio/Bea-base/bea-base-train...   \n3     /media/jvel/data/audio/Bea-base/bea-base-train...   \n4     /media/jvel/data/audio/Bea-base/bea-base-train...   \n...                                                 ...   \n4995  /media/jvel/data/audio/Bea-base/bea-base-train...   \n4996  /media/jvel/data/audio/Bea-base/bea-base-train...   \n4997  /media/jvel/data/audio/Bea-base/bea-base-train...   \n4998  /media/jvel/data/audio/Bea-base/bea-base-train...   \n4999  /media/jvel/data/audio/Bea-base/bea-base-train...   \n\n                       name    speed  \n0     bea_001_m_41_stm_0055     slow  \n1     bea_001_m_41_stm_0056     slow  \n2     bea_001_m_41_stm_0058  midslow  \n3     bea_001_m_41_stm_0059  midslow  \n4     bea_001_m_41_stm_0063     slow  \n...                     ...      ...  \n4995  bea_032_m_20_stm_0818   normal  \n4996  bea_032_m_20_stm_0819   normal  \n4997  bea_032_m_20_stm_0820     fast  \n4998  bea_032_m_20_stm_0821   normal  \n4999  bea_032_m_20_stm_0822     fast  \n\n[5000 rows x 3 columns]",
      "text/html": "<div>\n<style scoped>\n    .dataframe tbody tr th:only-of-type {\n        vertical-align: middle;\n    }\n\n    .dataframe tbody tr th {\n        vertical-align: top;\n    }\n\n    .dataframe thead th {\n        text-align: right;\n    }\n</style>\n<table border=\"1\" class=\"dataframe\">\n  <thead>\n    <tr style=\"text-align: right;\">\n      <th></th>\n      <th>path</th>\n      <th>name</th>\n      <th>speed</th>\n    </tr>\n  </thead>\n  <tbody>\n    <tr>\n      <th>0</th>\n      <td>/media/jvel/data/audio/Bea-base/bea-base-train...</td>\n      <td>bea_001_m_41_stm_0055</td>\n      <td>slow</td>\n    </tr>\n    <tr>\n      <th>1</th>\n      <td>/media/jvel/data/audio/Bea-base/bea-base-train...</td>\n      <td>bea_001_m_41_stm_0056</td>\n      <td>slow</td>\n    </tr>\n    <tr>\n      <th>2</th>\n      <td>/media/jvel/data/audio/Bea-base/bea-base-train...</td>\n      <td>bea_001_m_41_stm_0058</td>\n      <td>midslow</td>\n    </tr>\n    <tr>\n      <th>3</th>\n      <td>/media/jvel/data/audio/Bea-base/bea-base-train...</td>\n      <td>bea_001_m_41_stm_0059</td>\n      <td>midslow</td>\n    </tr>\n    <tr>\n      <th>4</th>\n      <td>/media/jvel/data/audio/Bea-base/bea-base-train...</td>\n      <td>bea_001_m_41_stm_0063</td>\n      <td>slow</td>\n    </tr>\n    <tr>\n      <th>...</th>\n      <td>...</td>\n      <td>...</td>\n      <td>...</td>\n    </tr>\n    <tr>\n      <th>4995</th>\n      <td>/media/jvel/data/audio/Bea-base/bea-base-train...</td>\n      <td>bea_032_m_20_stm_0818</td>\n      <td>normal</td>\n    </tr>\n    <tr>\n      <th>4996</th>\n      <td>/media/jvel/data/audio/Bea-base/bea-base-train...</td>\n      <td>bea_032_m_20_stm_0819</td>\n      <td>normal</td>\n    </tr>\n    <tr>\n      <th>4997</th>\n      <td>/media/jvel/data/audio/Bea-base/bea-base-train...</td>\n      <td>bea_032_m_20_stm_0820</td>\n      <td>fast</td>\n    </tr>\n    <tr>\n      <th>4998</th>\n      <td>/media/jvel/data/audio/Bea-base/bea-base-train...</td>\n      <td>bea_032_m_20_stm_0821</td>\n      <td>normal</td>\n    </tr>\n    <tr>\n      <th>4999</th>\n      <td>/media/jvel/data/audio/Bea-base/bea-base-train...</td>\n      <td>bea_032_m_20_stm_0822</td>\n      <td>fast</td>\n    </tr>\n  </tbody>\n</table>\n<p>5000 rows × 3 columns</p>\n</div>"
     },
     "execution_count": 21,
     "metadata": {},
     "output_type": "execute_result"
    }
   ],
   "source": [
    "speech_tempo_train_new"
   ],
   "metadata": {
    "collapsed": false
   }
  },
  {
   "cell_type": "code",
   "execution_count": 8,
   "outputs": [
    {
     "data": {
      "text/plain": "                                                   path  \\\n0     /media/jvel/data/audio/Bea-base/bea-base-train...   \n1     /media/jvel/data/audio/Bea-base/bea-base-train...   \n2     /media/jvel/data/audio/Bea-base/bea-base-train...   \n3     /media/jvel/data/audio/Bea-base/bea-base-train...   \n4     /media/jvel/data/audio/Bea-base/bea-base-train...   \n...                                                 ...   \n4995  /media/jvel/data/audio/Bea-base/bea-base-train...   \n4996  /media/jvel/data/audio/Bea-base/bea-base-train...   \n4997  /media/jvel/data/audio/Bea-base/bea-base-train...   \n4998  /media/jvel/data/audio/Bea-base/bea-base-train...   \n4999  /media/jvel/data/audio/Bea-base/bea-base-train...   \n\n                       name  no_pause_speech  length    label  \n0     bea_001_m_41_stm_0055         0.000159   2.362     slow  \n1     bea_001_m_41_stm_0056         0.000214   1.459     slow  \n2     bea_001_m_41_stm_0058         0.000520   3.723  midslow  \n3     bea_001_m_41_stm_0059         0.000591   0.952  midslow  \n4     bea_001_m_41_stm_0063         0.000175   1.430     slow  \n...                     ...              ...     ...      ...  \n4995  bea_032_m_20_stm_0818         0.000814   3.609   normal  \n4996  bea_032_m_20_stm_0819         0.000733   5.625   normal  \n4997  bea_032_m_20_stm_0820         0.000916   5.594     fast  \n4998  bea_032_m_20_stm_0821         0.000873   2.077   normal  \n4999  bea_032_m_20_stm_0822         0.001046   1.971     fast  \n\n[5000 rows x 5 columns]",
      "text/html": "<div>\n<style scoped>\n    .dataframe tbody tr th:only-of-type {\n        vertical-align: middle;\n    }\n\n    .dataframe tbody tr th {\n        vertical-align: top;\n    }\n\n    .dataframe thead th {\n        text-align: right;\n    }\n</style>\n<table border=\"1\" class=\"dataframe\">\n  <thead>\n    <tr style=\"text-align: right;\">\n      <th></th>\n      <th>path</th>\n      <th>name</th>\n      <th>no_pause_speech</th>\n      <th>length</th>\n      <th>label</th>\n    </tr>\n  </thead>\n  <tbody>\n    <tr>\n      <th>0</th>\n      <td>/media/jvel/data/audio/Bea-base/bea-base-train...</td>\n      <td>bea_001_m_41_stm_0055</td>\n      <td>0.000159</td>\n      <td>2.362</td>\n      <td>slow</td>\n    </tr>\n    <tr>\n      <th>1</th>\n      <td>/media/jvel/data/audio/Bea-base/bea-base-train...</td>\n      <td>bea_001_m_41_stm_0056</td>\n      <td>0.000214</td>\n      <td>1.459</td>\n      <td>slow</td>\n    </tr>\n    <tr>\n      <th>2</th>\n      <td>/media/jvel/data/audio/Bea-base/bea-base-train...</td>\n      <td>bea_001_m_41_stm_0058</td>\n      <td>0.000520</td>\n      <td>3.723</td>\n      <td>midslow</td>\n    </tr>\n    <tr>\n      <th>3</th>\n      <td>/media/jvel/data/audio/Bea-base/bea-base-train...</td>\n      <td>bea_001_m_41_stm_0059</td>\n      <td>0.000591</td>\n      <td>0.952</td>\n      <td>midslow</td>\n    </tr>\n    <tr>\n      <th>4</th>\n      <td>/media/jvel/data/audio/Bea-base/bea-base-train...</td>\n      <td>bea_001_m_41_stm_0063</td>\n      <td>0.000175</td>\n      <td>1.430</td>\n      <td>slow</td>\n    </tr>\n    <tr>\n      <th>...</th>\n      <td>...</td>\n      <td>...</td>\n      <td>...</td>\n      <td>...</td>\n      <td>...</td>\n    </tr>\n    <tr>\n      <th>4995</th>\n      <td>/media/jvel/data/audio/Bea-base/bea-base-train...</td>\n      <td>bea_032_m_20_stm_0818</td>\n      <td>0.000814</td>\n      <td>3.609</td>\n      <td>normal</td>\n    </tr>\n    <tr>\n      <th>4996</th>\n      <td>/media/jvel/data/audio/Bea-base/bea-base-train...</td>\n      <td>bea_032_m_20_stm_0819</td>\n      <td>0.000733</td>\n      <td>5.625</td>\n      <td>normal</td>\n    </tr>\n    <tr>\n      <th>4997</th>\n      <td>/media/jvel/data/audio/Bea-base/bea-base-train...</td>\n      <td>bea_032_m_20_stm_0820</td>\n      <td>0.000916</td>\n      <td>5.594</td>\n      <td>fast</td>\n    </tr>\n    <tr>\n      <th>4998</th>\n      <td>/media/jvel/data/audio/Bea-base/bea-base-train...</td>\n      <td>bea_032_m_20_stm_0821</td>\n      <td>0.000873</td>\n      <td>2.077</td>\n      <td>normal</td>\n    </tr>\n    <tr>\n      <th>4999</th>\n      <td>/media/jvel/data/audio/Bea-base/bea-base-train...</td>\n      <td>bea_032_m_20_stm_0822</td>\n      <td>0.001046</td>\n      <td>1.971</td>\n      <td>fast</td>\n    </tr>\n  </tbody>\n</table>\n<p>5000 rows × 5 columns</p>\n</div>"
     },
     "execution_count": 8,
     "metadata": {},
     "output_type": "execute_result"
    }
   ],
   "source": [
    "speech_tempo_train_new.to_csv('../data/bea-base-train-flat/new_whole_speech_train_5000.csv', index=False)"
   ],
   "metadata": {
    "collapsed": false
   }
  },
  {
   "cell_type": "code",
   "execution_count": 143,
   "outputs": [
    {
     "data": {
      "text/plain": "'/home/jvel/PycharmProjects/wav2vec2_patho/speech_notebooks'"
     },
     "execution_count": 143,
     "metadata": {},
     "output_type": "execute_result"
    }
   ],
   "source": [
    "import os\n",
    "os.getcwd()"
   ],
   "metadata": {
    "collapsed": false
   }
  },
  {
   "cell_type": "code",
   "execution_count": null,
   "outputs": [],
   "source": [],
   "metadata": {
    "collapsed": false
   }
  }
 ],
 "metadata": {
  "kernelspec": {
   "display_name": "Python 3",
   "language": "python",
   "name": "python3"
  },
  "language_info": {
   "codemirror_mode": {
    "name": "ipython",
    "version": 2
   },
   "file_extension": ".py",
   "mimetype": "text/x-python",
   "name": "python",
   "nbconvert_exporter": "python",
   "pygments_lexer": "ipython2",
   "version": "2.7.6"
  }
 },
 "nbformat": 4,
 "nbformat_minor": 0
}
